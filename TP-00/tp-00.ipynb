{
 "cells": [
  {
   "cell_type": "markdown",
   "metadata": {},
   "source": [
    "# Físico-Química III (531.364) - LABORATORIO COMPUTACIONAL\n",
    "### Prof. Stefan Vogt (2019, semestre 1)"
   ]
  },
  {
   "cell_type": "markdown",
   "metadata": {},
   "source": [
    "## TP-00 : Introducción a Python\n",
    "### Objetivo General:\n",
    "Capacitar al estudiante en nociones básicas del lenguaje de programación Pyhton.\n",
    "### Objetivos Específicos\n",
    "- Definir funciones.\n",
    "- Graficar funciones.\n",
    "- Calcular derivadas\n",
    "- Calcular integrales.\n",
    "- Usar ciclos iterativos.\n",
    "- Usar formato de salida de datos."
   ]
  },
  {
   "cell_type": "markdown",
   "metadata": {},
   "source": [
    "### Marco conceptual\n",
    "\n",
    "- Python es un lenguaje de programación interpretado con una sintaxis que favorece un código legible. Fue creado a finales de los ochenta por Guido van Rossum, en los Países Bajos. El nombre Python proviene de la afición de su creador por los humoristas británicos Monty Python.\n",
    "- Acaconda es una distribución gratuita de Python que permite su instalación y administración.\n",
    "- Jupyter Notebook es un ambiente interactivo que permite al ususario acceder a Pyhton desde un browser.\n"
   ]
  },
  {
   "cell_type": "code",
   "execution_count": 1,
   "metadata": {},
   "outputs": [],
   "source": [
    "import numpy as np                # numpy es una biblioteca para cálculos numéricos\n",
    "import matplotlib.pyplot as plt   # matplotlib entrega herramientas para graficar\n",
    "import scipy.integrate as int     # scipy.integrate es una herramienta de integración numérica\n",
    "from numpy import exp, sin        # desde numpy llamamos funciones en particular"
   ]
  },
  {
   "cell_type": "code",
   "execution_count": 2,
   "metadata": {},
   "outputs": [],
   "source": [
    "# Las salidas gráficas quedarán dento de la hoja\n",
    "%matplotlib inline"
   ]
  },
  {
   "cell_type": "markdown",
   "metadata": {},
   "source": [
    "### Tipos de dato"
   ]
  },
  {
   "cell_type": "markdown",
   "metadata": {},
   "source": [
    "En python se pueden definir distintos tipos de datos. Los tres más comunes son \n",
    "integros (integers), flotante (float) y booleanos. Los puntos flotantes son\n",
    "representaciones de números reales, los integros son números enteros \n",
    "y los booleanos son lógicos (verdadero o falso)"
   ]
  },
  {
   "cell_type": "markdown",
   "metadata": {},
   "source": [
    "## Actividad 0 : Típos de datos"
   ]
  },
  {
   "cell_type": "code",
   "execution_count": null,
   "metadata": {},
   "outputs": [],
   "source": [
    "# Definamos una variable de los tres distintos tipos de datos"
   ]
  },
  {
   "cell_type": "code",
   "execution_count": 4,
   "metadata": {},
   "outputs": [],
   "source": [
    "i = 1\n",
    "f = 5.5\n",
    "b = True"
   ]
  },
  {
   "cell_type": "markdown",
   "metadata": {},
   "source": [
    "Si es que queremos revisar el valor de nuestras variables, podemos usar la \n",
    "función print:"
   ]
  },
  {
   "cell_type": "code",
   "execution_count": 5,
   "metadata": {},
   "outputs": [
    {
     "name": "stdout",
     "output_type": "stream",
     "text": [
      "5.5\n"
     ]
    }
   ],
   "source": [
    "print(f)"
   ]
  },
  {
   "cell_type": "markdown",
   "metadata": {},
   "source": [
    "Finalmente podemos imprimir tabién el tipo de dato de nuestra variable\n",
    "utilizanod la función de python *type()*"
   ]
  },
  {
   "cell_type": "code",
   "execution_count": 6,
   "metadata": {},
   "outputs": [
    {
     "data": {
      "text/plain": [
       "float"
      ]
     },
     "execution_count": 6,
     "metadata": {},
     "output_type": "execute_result"
    }
   ],
   "source": [
    "type(f)"
   ]
  },
  {
   "cell_type": "markdown",
   "metadata": {},
   "source": [
    "#### Ejercicio: Defina una variable como float e verifique el tipo de dato mediante la funcion  type()."
   ]
  },
  {
   "cell_type": "code",
   "execution_count": null,
   "metadata": {},
   "outputs": [],
   "source": []
  },
  {
   "cell_type": "markdown",
   "metadata": {},
   "source": [
    "## Actividad 1 : Operaciones matemáticas básicas\n",
    "\n",
    "Ahora que concemos distintos tipos de datos, podemos hacer operaciones matamáticas con ellos. "
   ]
  },
  {
   "cell_type": "code",
   "execution_count": 7,
   "metadata": {},
   "outputs": [
    {
     "name": "stdout",
     "output_type": "stream",
     "text": [
      "5\n"
     ]
    }
   ],
   "source": [
    "# Sumemos dos números y mostremos el resultado\n",
    "a = 2\n",
    "b = 3\n",
    "print(a+b)"
   ]
  },
  {
   "cell_type": "code",
   "execution_count": 8,
   "metadata": {},
   "outputs": [
    {
     "name": "stdout",
     "output_type": "stream",
     "text": [
      "6\n"
     ]
    }
   ],
   "source": [
    "# Multipliquemos dos números\n",
    "a = 2\n",
    "b = 3\n",
    "print(a*b)"
   ]
  },
  {
   "cell_type": "code",
   "execution_count": 43,
   "metadata": {},
   "outputs": [
    {
     "name": "stdout",
     "output_type": "stream",
     "text": [
      "1\n",
      "1.5\n",
      "1.5\n"
     ]
    }
   ],
   "source": [
    "# Divisiones\n",
    "print(3/2)\n",
    "print(3./2)\n",
    "print(3./2.)"
   ]
  },
  {
   "cell_type": "markdown",
   "metadata": {},
   "source": [
    "¿Por qué es el primer resultado distinto a otro?"
   ]
  },
  {
   "cell_type": "code",
   "execution_count": 10,
   "metadata": {},
   "outputs": [
    {
     "name": "stdout",
     "output_type": "stream",
     "text": [
      "8\n"
     ]
    }
   ],
   "source": [
    "# Potencia\n",
    "a = 2\n",
    "b = 3\n",
    "print(a**b)"
   ]
  },
  {
   "cell_type": "markdown",
   "metadata": {},
   "source": [
    "#### Ejercicio: Guarde en una variable la siguiente operación: $3^2+4\\times 5$"
   ]
  },
  {
   "cell_type": "markdown",
   "metadata": {},
   "source": [
    "## Actividad 2: Definición de funciones\n",
    "\n",
    "Python permite definir funciones. Las funciones son extremadamente útiles cuando se quiere \n",
    "reutilizar código. Lo que hace la función es tomar una variable, hacer una operación sobre \n",
    "esa variable y retornar un valor modificado. En el próximo ejemplo vamos a definir una\n",
    "función:  $f(x) = x^2e^{-x}$ . "
   ]
  },
  {
   "cell_type": "code",
   "execution_count": 15,
   "metadata": {},
   "outputs": [],
   "source": [
    "# Definamos la función f\n",
    "def f(x):\n",
    "    return x**2*exp(-x)    "
   ]
  },
  {
   "cell_type": "markdown",
   "metadata": {},
   "source": [
    "Nótese que hasta ahora solamente definimos la función. Para evaluarla, es necesario llamar \n",
    "a la función y entregarle un valor específico a ser evaluado. "
   ]
  },
  {
   "cell_type": "code",
   "execution_count": 16,
   "metadata": {},
   "outputs": [
    {
     "name": "stdout",
     "output_type": "stream",
     "text": [
      "0.36787944117144233\n"
     ]
    }
   ],
   "source": [
    "# Evaluemos la función f en el punto x0\n",
    "x0 = 1.\n",
    "print(f(x0))"
   ]
  },
  {
   "cell_type": "markdown",
   "metadata": {},
   "source": [
    "#### Ejercicio: Evalue la función $f(x) = x^3$ en x=0.5, x=3.0 y x=5.5"
   ]
  },
  {
   "cell_type": "markdown",
   "metadata": {},
   "source": [
    "## Actividad 3: Graficación de funciones\n",
    "\n",
    "Uno de los aspectos más atractivos del lenguaje de programación en Python. Es el "
   ]
  },
  {
   "cell_type": "code",
   "execution_count": 18,
   "metadata": {},
   "outputs": [
    {
     "data": {
      "image/png": "[encoded data removed]",
      "text/plain": [
       "<matplotlib.figure.Figure at 0x7f0294154208>"
      ]
     },
     "metadata": {
      "needs_background": "light"
     },
     "output_type": "display_data"
    }
   ],
   "source": [
    "plt.figure(figsize=(5,4))   # se fija el tamaño de la figura\n",
    "x = np.arange(0, 10, 0.01)  # se define el intervalo (xmin, xmax, incremento)\n",
    "plt.plot(x, f(x),'r-')      # se construye la gráfica\n",
    "plt.axis([0, 10, 0, 0.6])   # se fija la ventana de graficación [xmin, xmax, ymin, ymax]\n",
    "plt.xlabel('x')             # se fija nombre eje x\n",
    "plt.ylabel('f(x)')          # se fija nombre eje y\n",
    "plt.show()                  # se muestra la gráfica"
   ]
  },
  {
   "cell_type": "markdown",
   "metadata": {},
   "source": [
    "## Actividad 4: Derivación numérica"
   ]
  },
  {
   "cell_type": "code",
   "execution_count": 64,
   "metadata": {
    "collapsed": true
   },
   "outputs": [],
   "source": [
    "def df(x):\n",
    "    h=1.e-8\n",
    "    val=(f(x+h)-f(x-h))/h\n",
    "    return(val)"
   ]
  },
  {
   "cell_type": "code",
   "execution_count": 65,
   "metadata": {},
   "outputs": [
    {
     "data": {
      "image/png": "[encoded data removed]",
      "text/plain": [
       "<matplotlib.figure.Figure at 0x6f27630>"
      ]
     },
     "metadata": {},
     "output_type": "display_data"
    }
   ],
   "source": [
    "# Grafiquemos la derivada de la función f\n",
    "plt.figure(figsize=(5,4))\n",
    "x = np.arange(0, 10, 0.01)\n",
    "plt.plot(x, df(x),'b--')\n",
    "plt.plot(x, 0.*x,'k')\n",
    "plt.xlabel('x')\n",
    "plt.ylabel('derivada')\n",
    "plt.axis([0, 10, -1, 1.0])\n",
    "plt.show()"
   ]
  },
  {
   "cell_type": "markdown",
   "metadata": {},
   "source": [
    "## Actividad 5: Integración numérica"
   ]
  },
  {
   "cell_type": "code",
   "execution_count": 28,
   "metadata": {},
   "outputs": [
    {
     "data": {
      "text/plain": [
       "(1.994461208568977, 8.43652381214296e-11)"
      ]
     },
     "execution_count": 28,
     "metadata": {},
     "output_type": "execute_result"
    }
   ],
   "source": [
    "# Definamos la intregral de la función f en un intervalo\n",
    "int.quad(lambda x: f(x),0,10)"
   ]
  },
  {
   "cell_type": "code",
   "execution_count": 29,
   "metadata": {},
   "outputs": [
    {
     "data": {
      "text/plain": [
       "1.994461208568977"
      ]
     },
     "execution_count": 29,
     "metadata": {},
     "output_type": "execute_result"
    }
   ],
   "source": [
    "int.quad(lambda x: f(x),0,10)[0]"
   ]
  },
  {
   "cell_type": "markdown",
   "metadata": {},
   "source": [
    "## ACTIVIDAD 6: Ciclo de repetición y formato de salida"
   ]
  },
  {
   "cell_type": "code",
   "execution_count": 95,
   "metadata": {},
   "outputs": [
    {
     "name": "stdout",
     "output_type": "stream",
     "text": [
      "1 1\n",
      "2 4\n",
      "3 9\n",
      "4 16\n",
      "5 25\n",
      "6 36\n",
      "7 49\n",
      "8 64\n",
      "9 81\n"
     ]
    }
   ],
   "source": [
    "for n in range(1,10):  # el ciclo va desde n_min hasta n_max-1\n",
    "    print n,n**2"
   ]
  },
  {
   "cell_type": "code",
   "execution_count": 148,
   "metadata": {},
   "outputs": [
    {
     "name": "stdout",
     "output_type": "stream",
     "text": [
      "   1    1.00e+00\n",
      "   2    4.00e+00\n",
      "   3    9.00e+00\n",
      "   4    1.60e+01\n",
      "   5    2.50e+01\n",
      "   6    3.60e+01\n",
      "   7    4.90e+01\n",
      "   8    6.40e+01\n",
      "   9    8.10e+01\n"
     ]
    }
   ],
   "source": [
    "# Ahora con formato de salida para los números\n",
    "for n in range(1,10):\n",
    "    print(\"   %1.0f    %1.2e\" % (n,n**2))"
   ]
  },
  {
   "cell_type": "markdown",
   "metadata": {},
   "source": [
    "## ACTIVIDAD 7: Uso de ciclo de decisión"
   ]
  },
  {
   "cell_type": "code",
   "execution_count": 152,
   "metadata": {},
   "outputs": [],
   "source": [
    "# Definamos el siguiente algoritmo para decidir si un múmero es par o no\n",
    "\n",
    "def es_par(x):\n",
    "    y = x/2\n",
    "    if x == 2*y:\n",
    "        print \"Sí\"\n",
    "    else:\n",
    "        print \"No\""
   ]
  },
  {
   "cell_type": "code",
   "execution_count": 153,
   "metadata": {},
   "outputs": [
    {
     "name": "stdout",
     "output_type": "stream",
     "text": [
      "Sí\n"
     ]
    }
   ],
   "source": [
    "es_par(4)"
   ]
  },
  {
   "cell_type": "code",
   "execution_count": 154,
   "metadata": {},
   "outputs": [
    {
     "name": "stdout",
     "output_type": "stream",
     "text": [
      "No\n"
     ]
    }
   ],
   "source": [
    "es_par(7)"
   ]
  }
 ],
 "metadata": {
  "kernelspec": {
   "display_name": "Python 3",
   "language": "python",
   "name": "python3"
  },
  "language_info": {
   "codemirror_mode": {
    "name": "ipython",
    "version": 3
   },
   "file_extension": ".py",
   "mimetype": "text/x-python",
   "name": "python",
   "nbconvert_exporter": "python",
   "pygments_lexer": "ipython3",
   "version": "3.5.4"
  }
 },
 "nbformat": 4,
 "nbformat_minor": 2
}
