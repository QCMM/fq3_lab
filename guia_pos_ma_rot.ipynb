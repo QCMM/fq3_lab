{
 "cells": [
  {
   "cell_type": "markdown",
   "metadata": {},
   "source": [
    "## Guía: Postulados, momento angular y rotor rígido\n",
    "\n"
   ]
  },
  {
   "cell_type": "code",
   "execution_count": 8,
   "metadata": {},
   "outputs": [],
   "source": [
    "from sympy import *\n",
    "from sympy.physics.quantum.operator import DifferentialOperator\n",
    "from sympy.physics.quantum.state import Wavefunction\n",
    "from sympy.physics.quantum.constants import hbar\n",
    "from sympy.physics.quantum.qapply import qapply\n",
    "import qcelemental as qcel\n",
    "import numpy as np\n"
   ]
  },
  {
   "cell_type": "markdown",
   "metadata": {},
   "source": [
    "### Ejercicio 1: \n",
    "\n",
    "Demuestre que las funciones de onda de la particula en una caja no son propias del operador\n",
    "px. \n",
    "\n",
    "**Solución:** Para saber un set de funciones son funciones propias de un operador, debemos demostar que cumplen esta ecuación\n",
    "\n",
    "\\begin{align}\n",
    "\\hat{A}f_n = a_nf_n\n",
    "\\end{align}\n",
    "\n",
    "Si se cumple este caso se dice que las funciones $f_n$ son funciones propias del operador $\\hat{A}$ con valor propio $a_n$. Este ejercicio pide invetigar si las funciones de onda de la partícula en una caja, son funciones propias del operador momento lineal. Recordemos que el operador de momento lineal está dado por el Postulado III\n",
    "\n",
    "\\begin{align}\n",
    "\\hat{p_x} = i\\hbar\\frac{d}{dx}\n",
    "\\end{align}\n",
    "\n",
    "y las funciones de onda de una partícula en una caja 1-D son:\n",
    "\n",
    "\\begin{align}\n",
    "\\psi_n(x) = \\sqrt{\\frac{2}{L}}sin\\Big( \\frac{n\\pi x}{L} \\Big)\n",
    "\\end{align}\n",
    "\n",
    "Por lo tanto para demostralo debemos ver si se cumple la primer ecuación.\n",
    "\n",
    "Primero vamos a definir el operador:"
   ]
  },
  {
   "cell_type": "code",
   "execution_count": 92,
   "metadata": {},
   "outputs": [
    {
     "data": {
      "text/latex": [
       "$\\displaystyle DifferentialOperator\\left(- \\hbar í \\frac{d}{d x} f{\\left(x \\right)},f{\\left(x \\right)}\\right)$"
      ],
      "text/plain": [
       "DifferentialOperator(-hbar*í*Derivative(f(x), x),f(x))"
      ]
     },
     "execution_count": 92,
     "metadata": {},
     "output_type": "execute_result"
    }
   ],
   "source": [
    "f = Function('f')\n",
    "x = Symbol('x')\n",
    "i = Symbol('í', real=False)\n",
    "\n",
    "p_x = DifferentialOperator(-i*hbar*Derivative(f(x), x), f(x))\n",
    "p_x"
   ]
  },
  {
   "cell_type": "markdown",
   "metadata": {},
   "source": [
    "Luege definimos las funciones de onda PEC. (vamos a omitir la constante de normaliacion ya que se deberia anular de todas formas de acuerdo a la ecuación (1))"
   ]
  },
  {
   "cell_type": "code",
   "execution_count": 93,
   "metadata": {},
   "outputs": [
    {
     "data": {
      "text/latex": [
       "$\\displaystyle \\operatorname{Wavefunction}{\\left(\\sin{\\left(\\frac{n \\pi x}{l} \\right)},x \\right)}$"
      ],
      "text/plain": [
       "Wavefunction(sin(n*pi*x/l), x)"
      ]
     },
     "execution_count": 93,
     "metadata": {},
     "output_type": "execute_result"
    }
   ],
   "source": [
    "n = Symbol('n', integer=True)\n",
    "m, l, pi_s = symbols('m l pi')\n",
    "\n",
    "\n",
    "PEC_wf = Wavefunction(sin(n*pi_s*x/l), x)\n",
    "PEC_wf"
   ]
  },
  {
   "cell_type": "markdown",
   "metadata": {},
   "source": [
    "Finalmente aplicamos el operador de momento lineal a la función de onda:"
   ]
  },
  {
   "cell_type": "code",
   "execution_count": 94,
   "metadata": {},
   "outputs": [
    {
     "data": {
      "text/latex": [
       "$\\displaystyle \\operatorname{Wavefunction}{\\left(- \\frac{\\hbar n \\pi í \\cos{\\left(\\frac{n \\pi x}{l} \\right)}}{l},x \\right)}$"
      ],
      "text/plain": [
       "Wavefunction(-hbar*n*pi*í*cos(n*pi*x/l)/l, x)"
      ]
     },
     "execution_count": 94,
     "metadata": {},
     "output_type": "execute_result"
    }
   ],
   "source": [
    "qapply(p_x*PEC_wf)"
   ]
  },
  {
   "cell_type": "markdown",
   "metadata": {},
   "source": [
    "Claramente, las funciones de onda de la PEC-1D no son funciones propias del  operador \\hat{p_x}, ya que al aplicar el operador no se recupera la misma función. Eso es un resultado esperable ya que sabemos que si un estado cuántico es función propia de un operador es posible determinar de manera exacto el valor del observable físico del operador, sin embargo, debido al principio de incertidumbre, en un estado de energía definida, el momento lineal y la posición no están definidas y su determinación tiene asociadad una incertidumbre. \n",
    "\n",
    "**BONUS**:\n",
    "\n",
    "De acuerdo a la misma lógica del ejercicio anterior, deberiamos recuperar la energía de los estado de la PEC si aplicamos el operador energía (Hamiltoniano) a las funciones porpias de este. De acuerdo a la ecuación:\n",
    "\n",
    "\\begin{align}\n",
    "\\hat{H}\\psi_n = E_n\\psi_n\n",
    "\\end{align}\n",
    "\n",
    "con \n",
    "\n",
    "$$ \\hat{H} = -\\frac{\\hbar²}{2m}\\frac{d²}{dx²} $$"
   ]
  },
  {
   "cell_type": "code",
   "execution_count": 95,
   "metadata": {},
   "outputs": [
    {
     "data": {
      "text/latex": [
       "$\\displaystyle DifferentialOperator\\left(- \\frac{\\hbar^{2} \\frac{d^{2}}{d x^{2}} f{\\left(x \\right)}}{2 m},f{\\left(x \\right)}\\right)$"
      ],
      "text/plain": [
       "DifferentialOperator(-hbar**2*Derivative(f(x), (x, 2))/(2*m),f(x))"
      ]
     },
     "execution_count": 95,
     "metadata": {},
     "output_type": "execute_result"
    }
   ],
   "source": [
    "H = DifferentialOperator(-hbar**2/(2*m)*Derivative(f(x), x, x, n=2), f(x))\n",
    "H"
   ]
  },
  {
   "cell_type": "code",
   "execution_count": 96,
   "metadata": {},
   "outputs": [
    {
     "data": {
      "text/latex": [
       "$\\displaystyle \\operatorname{Wavefunction}{\\left(\\frac{\\hbar^{2} n^{2} \\pi^{2} \\sin{\\left(\\frac{n \\pi x}{l} \\right)}}{2 l^{2} m},x \\right)}$"
      ],
      "text/plain": [
       "Wavefunction(hbar**2*n**2*pi**2*sin(n*pi*x/l)/(2*l**2*m), x)"
      ]
     },
     "execution_count": 96,
     "metadata": {},
     "output_type": "execute_result"
    }
   ],
   "source": [
    "qapply(H*PEC_wf)"
   ]
  },
  {
   "cell_type": "markdown",
   "metadata": {},
   "source": [
    "Efectivamente la función es la mimsa a la cual le aplicamos el operador y el valor propio es:\n",
    "\n",
    "\\begin{align}\n",
    "E_n = \\frac{\\hbar²n²\\pi²}{2ml²} = \\frac{h²n²}{8ml²}\n",
    "\\end{align}\n",
    "\n",
    "Que es la expresión de energía que nosotros derivamos en clase."
   ]
  },
  {
   "cell_type": "markdown",
   "metadata": {},
   "source": [
    "### Ejercicio 2:\n",
    "\n",
    "Calcule el valor esperado para el momento lineal de una partícula descrita por las siguientes\n",
    "funciones de onda:\n",
    "- $\\psi(x) = e^{ikx}$\n",
    "- $\\psi(x) = e^{-\\alpha x²}$\n",
    "\n",
    "Según el postulado número 5, es posible calcular el valor medio (esperado) de un observable físico en caulquier\n",
    "estado cuántico ($\\psi(x)$) mediante la expresión:\n",
    "\n",
    "\\begin{align}\n",
    "<A> = \\frac{\\int \\psi(x)^*\\hat{A}\\psi(x)dx}{\\int \\psi(x)^*\\psi(x)dx}\n",
    "\\end{align}\n",
    "    \n",
    "En este ejercicio debemos calcular el valor medio del operador momento lineal:\n",
    "\n",
    "\\begin{align}\n",
    "\\hat{p_x} = -i\\hbar\\frac{d}{dx}\n",
    "\\end{align}\n",
    "    \n",
    "En los estados del enunciado:"
   ]
  },
  {
   "cell_type": "code",
   "execution_count": 97,
   "metadata": {},
   "outputs": [
    {
     "data": {
      "text/latex": [
       "$\\displaystyle \\operatorname{Wavefunction}{\\left(e^{k x í},x \\right)}$"
      ],
      "text/plain": [
       "Wavefunction(exp(k*x*í), x)"
      ]
     },
     "execution_count": 97,
     "metadata": {},
     "output_type": "execute_result"
    }
   ],
   "source": [
    "k = Symbol('k')\n",
    "wfn_1 = Wavefunction(exp(i*k*x), x)\n",
    "wfn_1"
   ]
  },
  {
   "cell_type": "code",
   "execution_count": 98,
   "metadata": {},
   "outputs": [
    {
     "data": {
      "text/latex": [
       "$\\displaystyle \\operatorname{Wavefunction}{\\left(- \\hbar k í^{2} e^{k x í},x \\right)}$"
      ],
      "text/plain": [
       "Wavefunction(-hbar*k*í**2*exp(k*x*í), x)"
      ]
     },
     "execution_count": 98,
     "metadata": {},
     "output_type": "execute_result"
    }
   ],
   "source": [
    "wfn_1_a = qapply(p_x*wfn_1)\n",
    "wfn_1_a"
   ]
  },
  {
   "cell_type": "markdown",
   "metadata": {},
   "source": [
    "Por lo tanto, la integral del valor esperado queda:\n",
    "\n",
    "\\begin{align}\n",
    "<P_x> &= \\frac{\\int \\psi(x)^*\\hat{p_x}\\psi(x)dx}{\\int \\psi(x)^*\\psi(x)dx} \\\\\n",
    "      &= \\frac{\\int_{-\\infty}^{\\infty} e^{-ikx}\\hat{p_x}e^{ikx}dx} {\\int_{-\\infty}^{\\infty} e^{-ikx} e^{ikx} dx} \\\\\n",
    "      &= k\\hbar\\frac{\\int_{-\\infty}^{\\infty}e^{-ikx}e^{ikx}dx}{\\int_{-\\infty}^{\\infty} e^{-ikx} e^{ikx}dx}\\\\\n",
    "      & = k\\hbar\n",
    "\\end{align}"
   ]
  },
  {
   "cell_type": "markdown",
   "metadata": {},
   "source": [
    "Por lo tanto el valor esperado del momento lineal en este estado es $k\\hbar$"
   ]
  },
  {
   "cell_type": "markdown",
   "metadata": {},
   "source": [
    "Investigemos ahora el segundo estado $\\psi(x) = e^{-\\alpha x²}$"
   ]
  },
  {
   "cell_type": "code",
   "execution_count": 99,
   "metadata": {},
   "outputs": [
    {
     "data": {
      "text/latex": [
       "$\\displaystyle \\operatorname{Wavefunction}{\\left(e^{- \\alpha x^{2}},x \\right)}$"
      ],
      "text/plain": [
       "Wavefunction(exp(-alpha*x**2), x)"
      ]
     },
     "execution_count": 99,
     "metadata": {},
     "output_type": "execute_result"
    }
   ],
   "source": [
    "a = Symbol('alpha', positive = True)\n",
    "wfn_1 = Wavefunction(exp(-a*x**2), x)\n",
    "wfn_1"
   ]
  },
  {
   "cell_type": "code",
   "execution_count": 100,
   "metadata": {},
   "outputs": [
    {
     "data": {
      "text/latex": [
       "$\\displaystyle \\operatorname{Wavefunction}{\\left(2 \\hbar \\alpha x í e^{- \\alpha x^{2}},x \\right)}$"
      ],
      "text/plain": [
       "Wavefunction(2*hbar*alpha*x*í*exp(-alpha*x**2), x)"
      ]
     },
     "execution_count": 100,
     "metadata": {},
     "output_type": "execute_result"
    }
   ],
   "source": [
    "wfn_1_a = qapply(p_x*wfn_1)\n",
    "wfn_1_a"
   ]
  },
  {
   "cell_type": "code",
   "execution_count": 101,
   "metadata": {},
   "outputs": [
    {
     "data": {
      "text/latex": [
       "$\\displaystyle 2 \\hbar \\alpha x í e^{- 2 \\alpha x^{2}}$"
      ],
      "text/plain": [
       "2*hbar*alpha*x*í*exp(-2*alpha*x**2)"
      ]
     },
     "execution_count": 101,
     "metadata": {},
     "output_type": "execute_result"
    }
   ],
   "source": [
    "integrando = 2 * hbar * a * x * i * exp(-a*x**2) * exp(-a*x**2)\n",
    "integrando"
   ]
  },
  {
   "cell_type": "code",
   "execution_count": 102,
   "metadata": {},
   "outputs": [
    {
     "data": {
      "text/latex": [
       "$\\displaystyle 0$"
      ],
      "text/plain": [
       "0"
      ]
     },
     "execution_count": 102,
     "metadata": {},
     "output_type": "execute_result"
    }
   ],
   "source": [
    "integrate(integrando, (x, -oo, oo))"
   ]
  },
  {
   "cell_type": "markdown",
   "metadata": {},
   "source": [
    "Por lo tanto el valor esperado es igaul a 0. Obviamente esto no significa que una partícula en ese estado no se está moviendo, simplemente dice que existe la misma probabilidad que se mueva en una u en otra dirección por lo tanto el valor promedio de la velociadad es cero. "
   ]
  },
  {
   "cell_type": "markdown",
   "metadata": {},
   "source": [
    "### Ejercicio 7:\n",
    "\n",
    "La separación entre los dos niveles de energía más bajos del $^{12}$C$^{32}$S es $3.246x10^{-23}$J. Calcule\n",
    "su distancia de enlace."
   ]
  },
  {
   "cell_type": "markdown",
   "metadata": {},
   "source": [
    "**Solución**: Conciendo la separación entre niveles de energía es posible calcular la distancia de enlace de una molécula diatómica utilizando la aproximación del rotor rígido. Además la sepración entre distintos niveles de energía rotacionales se puede obtener a través de la espectroscopía rotacional (más acerca de eso al final del curso). \n",
    "\n",
    "Entonces consideremos los níveles de energía del rotor rígido:\n",
    "\n",
    "\\begin{align}\n",
    "E_J= J(J+1)\\frac{\\hbar^2}{2I}\n",
    "\\end{align}\n",
    "\n",
    "En esta ecuación $J$ es el número cuántico asociado al momento angular de la molécula rotando alrededor de su centro de masa y $I$ es el momento de inercia de la molécula que está dado por:\n",
    "\n",
    "\\begin{align}\n",
    " I = \\mu d²\n",
    "\\end{align}\n",
    "\n",
    "$d$ es la distancia de enlace de la molécula, y el paramentro que deseamos calcular. Además la masa reducioda $\\mu$ está dada por:\n",
    "\n",
    "\\begin{align}\n",
    " \\mu = \\frac{m_1m_2}{m_1 + m2}\n",
    "\\end{align}\n",
    "\n",
    "donde $m_1$ y $m_2$ son la masa de los átomos 1 y 2 respectivamente. \n",
    "\n",
    "Entonces debemos considerar los niveles de energía $J=0$ y $J=1$ y despejar $d$:\n",
    "\n",
    "\\begin{align}\n",
    "\\Delta E_{10} =& 1(1+1)\\frac{\\hbar^2}{2\\mu d²} - 0(0+1)\\frac{\\hbar^2}{2\\mu d²} \\\\\n",
    "d² =& 2\\frac{\\hbar^2}{2\\mu \\Delta E_{10}}\\\\\n",
    "d =& \\sqrt{2\\frac{\\hbar^2}{2\\mu \\Delta E_{10}}} = \\hbar\\sqrt{\\frac{1}{\\mu \\Delta E_{10}} }\\\\\n",
    "\\end{align}\n",
    "\n",
    "Esta ecuación la podemos implementar en código:\n",
    "\n"
   ]
  },
  {
   "cell_type": "code",
   "execution_count": 19,
   "metadata": {},
   "outputs": [],
   "source": [
    "def mu(m1, m2):\n",
    "    return (m1*m2)/(m1+m2)\n",
    "\n",
    "def dist(mu, dE):\n",
    "    return qcel.constants.hbar * np.sqrt(1/(mu*dE))\n"
   ]
  },
  {
   "cell_type": "markdown",
   "metadata": {},
   "source": [
    "Y llamamos las funciones con los datos del ejercicio:"
   ]
  },
  {
   "cell_type": "code",
   "execution_count": 24,
   "metadata": {},
   "outputs": [
    {
     "name": "stdout",
     "output_type": "stream",
     "text": [
      "La distancia de enlace de la molécula problema es: 1.538 Angstrom\n"
     ]
    }
   ],
   "source": [
    "mred = mu(12,32)*qcel.constants.amu2kg # Debo transformar masa de amu a kg por eso multiplico por ese factor al final!!\n",
    "deltaE = 3.246e-23\n",
    "\n",
    "d = dist(mred, deltaE)\n",
    "print(\"La distancia de enlace de la molécula problema es: {} Angstrom\".format(np.round(d*10**10, 3)))"
   ]
  }
 ],
 "metadata": {
  "kernelspec": {
   "display_name": "Python 3",
   "language": "python",
   "name": "python3"
  },
  "language_info": {
   "codemirror_mode": {
    "name": "ipython",
    "version": 3
   },
   "file_extension": ".py",
   "mimetype": "text/x-python",
   "name": "python",
   "nbconvert_exporter": "python",
   "pygments_lexer": "ipython3",
   "version": "3.7.4"
  }
 },
 "nbformat": 4,
 "nbformat_minor": 4
}
